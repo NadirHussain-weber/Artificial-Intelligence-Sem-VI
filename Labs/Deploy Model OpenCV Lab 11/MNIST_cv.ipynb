{
  "nbformat": 4,
  "nbformat_minor": 0,
  "metadata": {
    "kernelspec": {
      "display_name": "Python 3",
      "language": "python",
      "name": "python3"
    },
    "language_info": {
      "codemirror_mode": {
        "name": "ipython",
        "version": 3
      },
      "file_extension": ".py",
      "mimetype": "text/x-python",
      "name": "python",
      "nbconvert_exporter": "python",
      "pygments_lexer": "ipython3",
      "version": "3.6.12"
    },
    "colab": {
      "name": "MNIST_cv.ipynb",
      "provenance": [],
      "collapsed_sections": []
    }
  },
  "cells": [
    {
      "cell_type": "code",
      "metadata": {
        "id": "clzD24fUymMu"
      },
      "source": [
        "#We have stored our model from MNIST_CNN\n",
        "#Now we have 2 files: modelM.json and modelM.h5, which we can send any one to use them with following code\n",
        "#This model predicts 0-9 class of MNIST dataset\n",
        "\n",
        "from keras.models import model_from_json\n",
        "\n",
        "json_file = open('modelM.json', 'r')\n",
        "loaded_model_json = json_file.read()\n",
        "json_file.close()\n",
        "loaded_model = model_from_json(loaded_model_json)\n",
        "\n",
        "loaded_model.load_weights('modelM.h5')\n",
        "\n",
        "model = loaded_model"
      ],
      "execution_count": 124,
      "outputs": []
    },
    {
      "cell_type": "code",
      "metadata": {
        "id": "CDruIOcbymMx"
      },
      "source": [
        "# from PIL import Image\n",
        "# import numpy as np\n",
        "# from matplotlib import pyplot as plt\n",
        "# #test9 is already in 28*28 size, but we get problem with test3 and test4 because our model is unable to convert them to 28x28\n",
        "# #So what to do for those tests?\n",
        "# #We use function of OpenCv: This is used in cell below\n",
        "# im = Image.open(\"test9.png\")\n",
        "# img = im.convert('L')\n",
        "# print(img.size)\n",
        "# npImg = np.array(img)\n",
        "# print(npImg.size)\n",
        "\n",
        "# temp = npImg.reshape(1,28,28,1)"
      ],
      "execution_count": 125,
      "outputs": []
    },
    {
      "cell_type": "code",
      "metadata": {
        "id": "ea3GwN4symM0",
        "colab": {
          "base_uri": "https://localhost:8080/",
          "height": 285
        },
        "outputId": "c452048d-7856-479d-9006-6270197491e2"
      },
      "source": [
        "import cv2\n",
        "import numpy as np\n",
        "from matplotlib import pyplot as plt\n",
        "%matplotlib inline\n",
        "\n",
        "characters = ['0','1','2','3','4','5','6','7','8','9']\n",
        "\n",
        "#enter input image here\n",
        "image = cv2.imread('test1.png')\n",
        "height, width, depth = image.shape\n",
        "\n",
        "#Perform preprocessing on the image\n",
        "#resizing the image to cnicfind spaces better\n",
        "image = cv2.resize(image, dsize=(width*5,height*4), interpolation=cv2.INTER_CUBIC)\n",
        "\n",
        "#grayscale\n",
        "gray = cv2.cvtColor(image,cv2.COLOR_BGR2GRAY)\n",
        "\n",
        "#binary\n",
        "ret,thresh = cv2.threshold(gray,40,255,cv2.THRESH_BINARY_INV)\n",
        "\n",
        "plt.imshow(thresh)"
      ],
      "execution_count": 127,
      "outputs": [
        {
          "output_type": "execute_result",
          "data": {
            "text/plain": [
              "<matplotlib.image.AxesImage at 0x7f0a9381aed0>"
            ]
          },
          "metadata": {
            "tags": []
          },
          "execution_count": 127
        },
        {
          "output_type": "display_data",
          "data": {
            "image/png": "[encoded data removed]",
            "text/plain": [
              "<Figure size 432x288 with 1 Axes>"
            ]
          },
          "metadata": {
            "tags": [],
            "needs_background": "light"
          }
        }
      ]
    },
    {
      "cell_type": "code",
      "metadata": {
        "id": "bgkE4AXmymM1",
        "colab": {
          "base_uri": "https://localhost:8080/",
          "height": 285
        },
        "outputId": "0bc19bdc-253c-4947-e00d-0179ddd5db8a"
      },
      "source": [
        "#dilation\n",
        "kernel = np.ones((7,7), np.uint8)\n",
        "img_dilation = cv2.dilate(thresh, kernel, iterations=1)\n",
        "\n",
        "plt.imshow(img_dilation)"
      ],
      "execution_count": 128,
      "outputs": [
        {
          "output_type": "execute_result",
          "data": {
            "text/plain": [
              "<matplotlib.image.AxesImage at 0x7f0a9318f910>"
            ]
          },
          "metadata": {
            "tags": []
          },
          "execution_count": 128
        },
        {
          "output_type": "display_data",
          "data": {
            "image/png": "[encoded data removed]",
            "text/plain": [
              "<Figure size 432x288 with 1 Axes>"
            ]
          },
          "metadata": {
            "tags": [],
            "needs_background": "light"
          }
        }
      ]
    },
    {
      "cell_type": "code",
      "metadata": {
        "id": "FeThiumdymM2",
        "colab": {
          "base_uri": "https://localhost:8080/",
          "height": 285
        },
        "outputId": "d9ac92fa-bc79-4019-fc58-1a647e3fd3a9"
      },
      "source": [
        "#adding GaussianBlur\n",
        "gsblur=cv2.GaussianBlur(img_dilation,(11,11),0)\n",
        "    \n",
        "plt.imshow(gsblur)"
      ],
      "execution_count": 129,
      "outputs": [
        {
          "output_type": "execute_result",
          "data": {
            "text/plain": [
              "<matplotlib.image.AxesImage at 0x7f0a94799250>"
            ]
          },
          "metadata": {
            "tags": []
          },
          "execution_count": 129
        },
        {
          "output_type": "display_data",
          "data": {
            "image/png": "[encoded data removed]",
            "text/plain": [
              "<Figure size 432x288 with 1 Axes>"
            ]
          },
          "metadata": {
            "tags": [],
            "needs_background": "light"
          }
        }
      ]
    },
    {
      "cell_type": "code",
      "metadata": {
        "id": "Wnl1YT_ZymM3",
        "colab": {
          "base_uri": "https://localhost:8080/",
          "height": 285
        },
        "outputId": "bcaa23d1-16f8-4851-8821-e89d738ade9c"
      },
      "source": [
        "#Notice now the body of the written text is pure black, this is done to avoid any small discontinuties\n",
        "imagen = cv2.bitwise_not(image)\n",
        "gsblur2 = cv2.cvtColor(gsblur,cv2.COLOR_GRAY2BGR)\n",
        "out = cv2.bitwise_and(gsblur2,imagen)\n",
        "plt.imshow(out)"
      ],
      "execution_count": 130,
      "outputs": [
        {
          "output_type": "execute_result",
          "data": {
            "text/plain": [
              "<matplotlib.image.AxesImage at 0x7f0a90e1d710>"
            ]
          },
          "metadata": {
            "tags": []
          },
          "execution_count": 130
        },
        {
          "output_type": "display_data",
          "data": {
            "image/png": "[encoded data removed]",
            "text/plain": [
              "<Figure size 432x288 with 1 Axes>"
            ]
          },
          "metadata": {
            "tags": [],
            "needs_background": "light"
          }
        }
      ]
    },
    {
      "cell_type": "code",
      "metadata": {
        "id": "9qsKYjXeymM5",
        "colab": {
          "base_uri": "https://localhost:8080/"
        },
        "outputId": "aa9b995e-aa98-4a3f-ff51-bb19cb0e973a"
      },
      "source": [
        "roi = cv2.resize(out, dsize=(28,28), interpolation=cv2.INTER_CUBIC)\n",
        "roi = cv2.cvtColor(roi,cv2.COLOR_BGR2GRAY)\n",
        "\n",
        "roi = np.array(roi)\n",
        "t = np.copy(roi)\n",
        "#t = np.invert(t)       #We don't need to invert the image now again: We have done with opencv\n",
        "t = t.reshape(1,28,28,1)\n",
        "t = t.astype('float32')    \n",
        "t = t / 255.01\n",
        "   \n",
        "pred = model.predict(t)\n",
        "#print(pred)\n",
        "print('Predicted:'+characters[np.argmax(pred)])"
      ],
      "execution_count": 131,
      "outputs": [
        {
          "output_type": "stream",
          "text": [
            "Predicted:1\n"
          ],
          "name": "stdout"
        }
      ]
    },
    {
      "cell_type": "code",
      "metadata": {
        "id": "jytRxo1OymM6"
      },
      "source": [
        ""
      ],
      "execution_count": 119,
      "outputs": []
    },
    {
      "cell_type": "code",
      "metadata": {
        "id": "nBDB4IxzymM6"
      },
      "source": [
        ""
      ],
      "execution_count": null,
      "outputs": []
    }
  ]
}