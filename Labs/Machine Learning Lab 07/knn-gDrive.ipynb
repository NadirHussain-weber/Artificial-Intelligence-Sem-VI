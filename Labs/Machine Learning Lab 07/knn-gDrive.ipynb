{
 "cells": [
  {
   "cell_type": "markdown",
   "metadata": {
    "id": "zUS0RN4ZsQLY"
   },
   "source": [
    "**KNN classifier**\n",
    "SOURCE: https://stackabuse.com/k-nearest-neighbors-algorithm-in-python-and-scikit-learn/"
   ]
  },
  {
   "cell_type": "markdown",
   "metadata": {
    "id": "CnCLAJMUsQJb"
   },
   "source": [
    "**Pros and Cons of KNN**\n",
    "In this section we'll present some of the pros and cons of using the KNN algorithm.\n",
    "\n",
    "\n",
    "**Pros**\n",
    "It is extremely easy to implement\n",
    "As said earlier, it is lazy learning algorithm and therefore requires no training prior to making real time predictions. This makes the KNN algorithm much faster than other algorithms that require training e.g SVM, linear regression, etc.\n",
    "Since the algorithm requires no training before making predictions, new data can be added seamlessly.\n",
    "There are only two parameters required to implement KNN i.e. the value of K and the distance function (e.g. Euclidean or Manhattan etc.)\n",
    "\n",
    "\n",
    "**Cons**\n",
    "The KNN algorithm doesn't work well with high dimensional data because with large number of dimensions, it becomes difficult for the algorithm to calculate distance in each dimension.\n",
    "The KNN algorithm has a high prediction cost for large datasets. This is because in large datasets the cost of calculating distance between new point and each existing point becomes higher.\n",
    "Finally, the KNN algorithm doesn't work well with categorical features since it is difficult to find the distance between dimensions with categorical features.\n"
   ]
  },
  {
   "cell_type": "code",
   "execution_count": 1,
   "metadata": {
    "executionInfo": {
     "elapsed": 2611,
     "status": "ok",
     "timestamp": 1618895703559,
     "user": {
      "displayName": "Asif Rajput",
      "photoUrl": "https://lh3.googleusercontent.com/a-/AOh14GhoG_92hGftuPr37jdlyflCl1tODKaDSn9qWmLJmg=s64",
      "userId": "02830348139483439686"
     },
     "user_tz": -300
    },
    "id": "5l0vSorZsfih"
   },
   "outputs": [],
   "source": [
    "import numpy as np\n",
    "import matplotlib.pyplot as plt\n",
    "import pandas as pd"
   ]
  },
  {
   "cell_type": "code",
   "execution_count": 2,
   "metadata": {
    "executionInfo": {
     "elapsed": 3272,
     "status": "ok",
     "timestamp": 1618895706632,
     "user": {
      "displayName": "Asif Rajput",
      "photoUrl": "https://lh3.googleusercontent.com/a-/AOh14GhoG_92hGftuPr37jdlyflCl1tODKaDSn9qWmLJmg=s64",
      "userId": "02830348139483439686"
     },
     "user_tz": -300
    },
    "id": "nEMztSF1sPrp"
   },
   "outputs": [],
   "source": [
    "url = \"https://archive.ics.uci.edu/ml/machine-learning-databases/iris/iris.data\"\n",
    "\n",
    "# Assign colum names to the dataset\n",
    "names = ['sepal-length', 'sepal-width', 'petal-length', 'petal-width', 'Class']\n",
    "\n",
    "# Read dataset to pandas dataframe\n",
    "dataset = pd.read_csv(url, names=names)"
   ]
  },
  {
   "cell_type": "code",
   "execution_count": 3,
   "metadata": {
    "colab": {
     "base_uri": "https://localhost:8080/",
     "height": 198
    },
    "executionInfo": {
     "elapsed": 2961,
     "status": "ok",
     "timestamp": 1618895710473,
     "user": {
      "displayName": "Asif Rajput",
      "photoUrl": "https://lh3.googleusercontent.com/a-/AOh14GhoG_92hGftuPr37jdlyflCl1tODKaDSn9qWmLJmg=s64",
      "userId": "02830348139483439686"
     },
     "user_tz": -300
    },
    "id": "LTN4G_SVso7T",
    "outputId": "c33c2d52-70b7-424e-cc20-5db86df8f894"
   },
   "outputs": [
    {
     "data": {
      "text/html": [
       "<div>\n",
       "<style scoped>\n",
       "    .dataframe tbody tr th:only-of-type {\n",
       "        vertical-align: middle;\n",
       "    }\n",
       "\n",
       "    .dataframe tbody tr th {\n",
       "        vertical-align: top;\n",
       "    }\n",
       "\n",
       "    .dataframe thead th {\n",
       "        text-align: right;\n",
       "    }\n",
       "</style>\n",
       "<table border=\"1\" class=\"dataframe\">\n",
       "  <thead>\n",
       "    <tr style=\"text-align: right;\">\n",
       "      <th></th>\n",
       "      <th>sepal-length</th>\n",
       "      <th>sepal-width</th>\n",
       "      <th>petal-length</th>\n",
       "      <th>petal-width</th>\n",
       "      <th>Class</th>\n",
       "    </tr>\n",
       "  </thead>\n",
       "  <tbody>\n",
       "    <tr>\n",
       "      <th>0</th>\n",
       "      <td>5.1</td>\n",
       "      <td>3.5</td>\n",
       "      <td>1.4</td>\n",
       "      <td>0.2</td>\n",
       "      <td>Iris-setosa</td>\n",
       "    </tr>\n",
       "    <tr>\n",
       "      <th>1</th>\n",
       "      <td>4.9</td>\n",
       "      <td>3.0</td>\n",
       "      <td>1.4</td>\n",
       "      <td>0.2</td>\n",
       "      <td>Iris-setosa</td>\n",
       "    </tr>\n",
       "    <tr>\n",
       "      <th>2</th>\n",
       "      <td>4.7</td>\n",
       "      <td>3.2</td>\n",
       "      <td>1.3</td>\n",
       "      <td>0.2</td>\n",
       "      <td>Iris-setosa</td>\n",
       "    </tr>\n",
       "    <tr>\n",
       "      <th>3</th>\n",
       "      <td>4.6</td>\n",
       "      <td>3.1</td>\n",
       "      <td>1.5</td>\n",
       "      <td>0.2</td>\n",
       "      <td>Iris-setosa</td>\n",
       "    </tr>\n",
       "    <tr>\n",
       "      <th>4</th>\n",
       "      <td>5.0</td>\n",
       "      <td>3.6</td>\n",
       "      <td>1.4</td>\n",
       "      <td>0.2</td>\n",
       "      <td>Iris-setosa</td>\n",
       "    </tr>\n",
       "  </tbody>\n",
       "</table>\n",
       "</div>"
      ],
      "text/plain": [
       "   sepal-length  sepal-width  petal-length  petal-width        Class\n",
       "0           5.1          3.5           1.4          0.2  Iris-setosa\n",
       "1           4.9          3.0           1.4          0.2  Iris-setosa\n",
       "2           4.7          3.2           1.3          0.2  Iris-setosa\n",
       "3           4.6          3.1           1.5          0.2  Iris-setosa\n",
       "4           5.0          3.6           1.4          0.2  Iris-setosa"
      ]
     },
     "execution_count": 3,
     "metadata": {
      "tags": []
     },
     "output_type": "execute_result"
    }
   ],
   "source": [
    "dataset.head()\n"
   ]
  },
  {
   "cell_type": "code",
   "execution_count": 4,
   "metadata": {
    "executionInfo": {
     "elapsed": 2413,
     "status": "ok",
     "timestamp": 1618895710474,
     "user": {
      "displayName": "Asif Rajput",
      "photoUrl": "https://lh3.googleusercontent.com/a-/AOh14GhoG_92hGftuPr37jdlyflCl1tODKaDSn9qWmLJmg=s64",
      "userId": "02830348139483439686"
     },
     "user_tz": -300
    },
    "id": "AuvuCeF3spYr"
   },
   "outputs": [],
   "source": [
    "X = dataset.iloc[:, :-1].values\n",
    "y = dataset.iloc[:, 4].values\n"
   ]
  },
  {
   "cell_type": "code",
   "execution_count": 5,
   "metadata": {
    "executionInfo": {
     "elapsed": 4640,
     "status": "ok",
     "timestamp": 1618895717568,
     "user": {
      "displayName": "Asif Rajput",
      "photoUrl": "https://lh3.googleusercontent.com/a-/AOh14GhoG_92hGftuPr37jdlyflCl1tODKaDSn9qWmLJmg=s64",
      "userId": "02830348139483439686"
     },
     "user_tz": -300
    },
    "id": "ewmDtTZRsssr"
   },
   "outputs": [],
   "source": [
    "from sklearn.model_selection import train_test_split\n",
    "X_train, X_test, y_train, y_test = train_test_split(X, y, test_size=0.20)\n",
    "# 80% is for training\n",
    "#0.20 means 20% of data assigned for testing of model, rest is assigned for training.\n",
    "#Python will take 80% records randomly, maybe biased? So we need to shuffle."
   ]
  },
  {
   "cell_type": "code",
   "execution_count": 6,
   "metadata": {
    "executionInfo": {
     "elapsed": 2860,
     "status": "ok",
     "timestamp": 1618895720755,
     "user": {
      "displayName": "Asif Rajput",
      "photoUrl": "https://lh3.googleusercontent.com/a-/AOh14GhoG_92hGftuPr37jdlyflCl1tODKaDSn9qWmLJmg=s64",
      "userId": "02830348139483439686"
     },
     "user_tz": -300
    },
    "id": "Nb9tSUBisvdm"
   },
   "outputs": [],
   "source": [
    "from sklearn.preprocessing import StandardScaler\n",
    "scaler = StandardScaler()\n",
    "scaler.fit(X_train)\n",
    "#scipi learn supports sklearn library----we need to install scipi\n",
    "X_train = scaler.transform(X_train)\n",
    "#To convert the string classes of iris dataset into numbers i.e 0,1,2\n",
    "X_test = scaler.transform(X_test)"
   ]
  },
  {
   "cell_type": "code",
   "execution_count": 7,
   "metadata": {
    "colab": {
     "base_uri": "https://localhost:8080/"
    },
    "executionInfo": {
     "elapsed": 3936,
     "status": "ok",
     "timestamp": 1618895722375,
     "user": {
      "displayName": "Asif Rajput",
      "photoUrl": "https://lh3.googleusercontent.com/a-/AOh14GhoG_92hGftuPr37jdlyflCl1tODKaDSn9qWmLJmg=s64",
      "userId": "02830348139483439686"
     },
     "user_tz": -300
    },
    "id": "YoH-fuVXsvew",
    "outputId": "2dac8180-8dd4-4d69-b2cf-68829bf6b6a7"
   },
   "outputs": [
    {
     "data": {
      "text/plain": [
       "KNeighborsClassifier(algorithm='auto', leaf_size=30, metric='minkowski',\n",
       "                     metric_params=None, n_jobs=None, n_neighbors=5, p=2,\n",
       "                     weights='uniform')"
      ]
     },
     "execution_count": 7,
     "metadata": {
      "tags": []
     },
     "output_type": "execute_result"
    }
   ],
   "source": [
    "from sklearn.neighbors import KNeighborsClassifier\n",
    "classifier = KNeighborsClassifier(n_neighbors=5)\n",
    "classifier.fit(X_train, y_train)\n",
    "#KNN is available in sklearn"
   ]
  },
  {
   "cell_type": "code",
   "execution_count": 8,
   "metadata": {
    "executionInfo": {
     "elapsed": 1963,
     "status": "ok",
     "timestamp": 1618895724386,
     "user": {
      "displayName": "Asif Rajput",
      "photoUrl": "https://lh3.googleusercontent.com/a-/AOh14GhoG_92hGftuPr37jdlyflCl1tODKaDSn9qWmLJmg=s64",
      "userId": "02830348139483439686"
     },
     "user_tz": -300
    },
    "id": "c-rUdvPkszW0"
   },
   "outputs": [],
   "source": [
    "y_pred = classifier.predict(X_test)"
   ]
  },
  {
   "cell_type": "code",
   "execution_count": 9,
   "metadata": {
    "colab": {
     "base_uri": "https://localhost:8080/"
    },
    "executionInfo": {
     "elapsed": 2144,
     "status": "ok",
     "timestamp": 1618895728365,
     "user": {
      "displayName": "Asif Rajput",
      "photoUrl": "https://lh3.googleusercontent.com/a-/AOh14GhoG_92hGftuPr37jdlyflCl1tODKaDSn9qWmLJmg=s64",
      "userId": "02830348139483439686"
     },
     "user_tz": -300
    },
    "id": "yAwAmFyjs3vN",
    "outputId": "f17cef4f-3c44-4e03-93c2-fdd5c81f315c"
   },
   "outputs": [
    {
     "name": "stdout",
     "output_type": "stream",
     "text": [
      "[[10  0  0]\n",
      " [ 0 10  2]\n",
      " [ 0  0  8]]\n",
      "                 precision    recall  f1-score   support\n",
      "\n",
      "    Iris-setosa       1.00      1.00      1.00        10\n",
      "Iris-versicolor       1.00      0.83      0.91        12\n",
      " Iris-virginica       0.80      1.00      0.89         8\n",
      "\n",
      "       accuracy                           0.93        30\n",
      "      macro avg       0.93      0.94      0.93        30\n",
      "   weighted avg       0.95      0.93      0.93        30\n",
      "\n"
     ]
    }
   ],
   "source": [
    "from sklearn.metrics import classification_report, confusion_matrix\n",
    "print(confusion_matrix(y_test, y_pred))\n",
    "print(classification_report(y_test, y_pred))"
   ]
  },
  {
   "cell_type": "code",
   "execution_count": 12,
   "metadata": {
    "executionInfo": {
     "elapsed": 2272,
     "status": "ok",
     "timestamp": 1618895738460,
     "user": {
      "displayName": "Asif Rajput",
      "photoUrl": "https://lh3.googleusercontent.com/a-/AOh14GhoG_92hGftuPr37jdlyflCl1tODKaDSn9qWmLJmg=s64",
      "userId": "02830348139483439686"
     },
     "user_tz": -300
    },
    "id": "rulxrAm2s51O"
   },
   "outputs": [],
   "source": [
    "error = []\n",
    "r\n",
    "# Calculating error for K values between 1 and 40\n",
    "for i in range(1, 40):\n",
    "    knn = KNeighborsClassifier(n_neighbors=i)\n",
    "    knn.fit(X_train, y_train)\n",
    "    pred_i = knn.predict(X_test)\n",
    "    error.append(np.mean(pred_i != y_test))"
   ]
  },
  {
   "cell_type": "code",
   "execution_count": 13,
   "metadata": {
    "colab": {
     "base_uri": "https://localhost:8080/",
     "height": 421
    },
    "executionInfo": {
     "elapsed": 2223,
     "status": "ok",
     "timestamp": 1618895739743,
     "user": {
      "displayName": "Asif Rajput",
      "photoUrl": "https://lh3.googleusercontent.com/a-/AOh14GhoG_92hGftuPr37jdlyflCl1tODKaDSn9qWmLJmg=s64",
      "userId": "02830348139483439686"
     },
     "user_tz": -300
    },
    "id": "Nyjxchcws7H9",
    "outputId": "ebd30e61-51eb-49b9-a418-4eaf5aab1617"
   },
   "outputs": [
    {
     "data": {
      "text/plain": [
       "Text(0, 0.5, 'Mean Error')"
      ]
     },
     "execution_count": 13,
     "metadata": {
      "tags": []
     },
     "output_type": "execute_result"
    },
    {
     "data": {
      "image/png": "[encoded data removed]",
      "text/plain": [
       "<Figure size 864x432 with 1 Axes>"
      ]
     },
     "metadata": {
      "needs_background": "light",
      "tags": []
     },
     "output_type": "display_data"
    }
   ],
   "source": [
    "plt.figure(figsize=(12, 6))\n",
    "plt.plot(range(1, 40), error, color='red', linestyle='dashed', marker='o',\n",
    "         markerfacecolor='blue', markersize=10)\n",
    "plt.title('Error Rate K Value')\n",
    "plt.xlabel('K Value')\n",
    "plt.ylabel('Mean Error')"
   ]
  },
  {
   "cell_type": "code",
   "execution_count": null,
   "metadata": {
    "id": "3rpWhq2As7JK"
   },
   "outputs": [],
   "source": []
  }
 ],
 "metadata": {
  "colab": {
   "authorship_tag": "ABX9TyNZD989RJT6YxKa4olikCZ6",
   "name": "ML Lab2.ipynb",
   "provenance": []
  },
  "kernelspec": {
   "display_name": "Python 3",
   "language": "python",
   "name": "python3"
  },
  "language_info": {
   "codemirror_mode": {
    "name": "ipython",
    "version": 3
   },
   "file_extension": ".py",
   "mimetype": "text/x-python",
   "name": "python",
   "nbconvert_exporter": "python",
   "pygments_lexer": "ipython3",
   "version": "3.8.5"
  }
 },
 "nbformat": 4,
 "nbformat_minor": 1
}
